{
  "nbformat": 4,
  "nbformat_minor": 0,
  "metadata": {
    "colab": {
      "name": "AA_S3.ipynb",
      "provenance": [],
      "collapsed_sections": [],
      "authorship_tag": "ABX9TyP+EChcBYPQgslQGNhxAeoq",
      "include_colab_link": true
    },
    "kernelspec": {
      "name": "python3",
      "display_name": "Python 3"
    }
  },
  "cells": [
    {
      "cell_type": "markdown",
      "metadata": {
        "id": "view-in-github",
        "colab_type": "text"
      },
      "source": [
        "<a href=\"https://colab.research.google.com/github/r2rendon/Analisis_Algoritmos/blob/main/AA_S3.ipynb\" target=\"_parent\"><img src=\"https://colab.research.google.com/assets/colab-badge.svg\" alt=\"Open In Colab\"/></a>"
      ]
    },
    {
      "cell_type": "code",
      "metadata": {
        "id": "pMCsK_WMXlWg",
        "outputId": "a8ce6c36-84a3-4bfa-c906-1e9869295c3d",
        "colab": {
          "base_uri": "https://localhost:8080/"
        }
      },
      "source": [
        "import math as m\n",
        "\n",
        "def cantidad(x, y):\n",
        "    doubleX= (x[0]-y[0])**2\n",
        "    doubleY= (x[1]-y[1])**2\n",
        "    resultado = m.sqrt((doubleX+doubleY))\n",
        "    return resultado\n",
        "\n",
        "def min_max(arreglo):\n",
        "    inicio = True\n",
        "    min = 0\n",
        "    max = 0\n",
        "    punto1 = []\n",
        "    punto2 = []\n",
        "    for x in range(len(puntos)):\n",
        "        for y in range(x+1,len(puntos)):\n",
        "            n = cantidad(arreglo[x],arreglo[y])\n",
        "            if inicio:\n",
        "                inicio = False\n",
        "                punto1.append(arreglo[x])\n",
        "                punto1.append(arreglo[y])\n",
        "                punto2.append(arreglo[x])\n",
        "                punto2.append(arreglo[y])\n",
        "                min = n\n",
        "                max = n\n",
        "            else:\n",
        "                if n < min:\n",
        "                    punto1.clear()\n",
        "                    punto1.append(arreglo[x])\n",
        "                    punto1.append(arreglo[y])\n",
        "                    min=0\n",
        "                    min=n\n",
        "                if n > max:\n",
        "                    punto2.clear()\n",
        "                    punto2.append(arreglo[x])\n",
        "                    punto2.append(arreglo[y])\n",
        "                    max=0\n",
        "                    max=n\n",
        "    \n",
        "    print(\"La distancia menor entre 2 puntos es \",min,\" los puntos son \",punto1)\n",
        "    print(\"La distancia maxima entre 2 puntos es \",max,\" los puntos son \",punto2)\n",
        "    \n",
        "puntos = [[81,91],[1,51],[41,4],[8,97],[7,32],[5,10],[2,4],[12,22]]\n",
        "min_max(puntos)"
      ],
      "execution_count": 6,
      "outputs": [
        {
          "output_type": "stream",
          "text": [
            "La distancia menor entre 2 puntos es  6.708203932499369  los puntos son  [[5, 10], [2, 4]]\n",
            "La distancia maxima entre 2 puntos es  117.51595636338071  los puntos son  [[81, 91], [2, 4]]\n"
          ],
          "name": "stdout"
        }
      ]
    }
  ]
}