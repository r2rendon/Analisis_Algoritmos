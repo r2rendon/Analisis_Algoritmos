{
  "nbformat": 4,
  "nbformat_minor": 0,
  "metadata": {
    "colab": {
      "name": "AA_S1.ipynb",
      "provenance": [],
      "collapsed_sections": [],
      "authorship_tag": "ABX9TyPNG2qgBUv5itDyqK4NrCJX",
      "include_colab_link": true
    },
    "kernelspec": {
      "name": "python3",
      "display_name": "Python 3"
    }
  },
  "cells": [
    {
      "cell_type": "markdown",
      "metadata": {
        "id": "view-in-github",
        "colab_type": "text"
      },
      "source": [
        "<a href=\"https://colab.research.google.com/github/r2rendon/Analisis_Algoritmos/blob/main/AA_S1.ipynb\" target=\"_parent\"><img src=\"https://colab.research.google.com/assets/colab-badge.svg\" alt=\"Open In Colab\"/></a>"
      ]
    },
    {
      "cell_type": "markdown",
      "metadata": {
        "id": "EGivBbzX8Kbw"
      },
      "source": [
        "Bubble Sort\n",
        "---\n",
        "\n"
      ]
    },
    {
      "cell_type": "code",
      "metadata": {
        "id": "UiRj4o_u8NgF",
        "outputId": "99ca440f-ba96-4b9d-ebef-ee0a1c64b282",
        "colab": {
          "base_uri": "https://localhost:8080/",
          "height": 85
        }
      },
      "source": [
        "import random\n",
        "\n",
        "def generateRandomList(length):\n",
        "    newList = []\n",
        "    for i in range(0, length):\n",
        "        n = random.randint(1, 99)\n",
        "        newList.append(n);\n",
        "    return newList\n",
        "\n",
        "def bubbleSort(listLength):\n",
        "    randList = generateRandomList(listLength)\n",
        "    print(randList)\n",
        "    for listLengthIndex in range(len(randList)-1):\n",
        "        for index in range(0, listLength-listLengthIndex-1):\n",
        "            if randList[index] > randList[index+1]:\n",
        "                swap = randList[index]\n",
        "                randList[index] = randList[index+1]\n",
        "                randList[index+1] = swap\n",
        "\n",
        "    print('\\nSorted:')\n",
        "    print(randList)\n",
        "\n",
        "bubbleSort(15)"
      ],
      "execution_count": null,
      "outputs": [
        {
          "output_type": "stream",
          "text": [
            "[1, 79, 20, 92, 6, 78, 92, 58, 10, 99, 27, 99, 73, 64, 41]\n",
            "\n",
            "Sorted:\n",
            "[1, 6, 10, 20, 27, 41, 58, 64, 73, 78, 79, 92, 92, 99, 99]\n"
          ],
          "name": "stdout"
        }
      ]
    },
    {
      "cell_type": "markdown",
      "metadata": {
        "id": "N57lUnjrc0UN"
      },
      "source": [
        "Fibonacci Iterativo\n",
        "---\n",
        "\n"
      ]
    },
    {
      "cell_type": "code",
      "metadata": {
        "id": "Qb14EO-OczkY"
      },
      "source": [
        "def fibonacci_iterativo(x):\n",
        "    res=0\n",
        "    i= 0\n",
        "    while i<=x:\n",
        "        res= res+i\n",
        "        i= i+1\n",
        "        print(res)\n",
        "\n",
        "    return res"
      ],
      "execution_count": null,
      "outputs": []
    },
    {
      "cell_type": "markdown",
      "metadata": {
        "id": "par6JsUfc2Le"
      },
      "source": [
        "Fibonacci Recursivo\n",
        "---\n",
        "\n"
      ]
    },
    {
      "cell_type": "code",
      "metadata": {
        "id": "Dx9FFMdFc4cW"
      },
      "source": [
        "def fibonacci_recursivo(y):\n",
        "    if y==1:\n",
        "        return 0\n",
        "    elif y==2:\n",
        "        return 1\n",
        "    else:\n",
        "        num= (fib(y-1)+fib(y-2))\n",
        "        print(num)\n",
        "        return num"
      ],
      "execution_count": null,
      "outputs": []
    },
    {
      "cell_type": "markdown",
      "metadata": {
        "id": "qW_eiW6lxARH"
      },
      "source": [
        "Insertion Sort\n",
        "---\n",
        "\n"
      ]
    },
    {
      "cell_type": "code",
      "metadata": {
        "id": "rI0vXu1xAARb",
        "outputId": "dab04c26-6990-4c32-b93a-81b1f5cda042",
        "colab": {
          "base_uri": "https://localhost:8080/",
          "height": 68
        }
      },
      "source": [
        "from random import seed\n",
        "from random import randint\n",
        "import numpy as np\n",
        "\n",
        "def insert_sort(cant):\n",
        "  listaDesordenada = []\n",
        "  seed(1)\n",
        "  \n",
        "  for _ in range(cant):\n",
        "    listaDesordenada = np.append(listaDesordenada, randint(0, 50))\n",
        "  \n",
        "  print(listaDesordenada)\n",
        "  \n",
        "  veces = 0\n",
        "  for i in range(len(listaDesordenada)):\n",
        "    for j in range(i, 0, -1):\n",
        "      veces += 1\n",
        "      if listaDesordenada[j] < listaDesordenada[j-1]:\n",
        "        listaDesordenada[j], listaDesordenada[j-1] = listaDesordenada[j-1], listaDesordenada[j]\n",
        "      else:\n",
        "        break\n",
        "  \n",
        "  print(listaDesordenada)\n",
        "  return veces\n",
        "\n",
        "insert_sort(10)\n"
      ],
      "execution_count": null,
      "outputs": [
        {
          "output_type": "stream",
          "text": [
            "[ 8. 36. 48.  4. 16.  7. 31. 48. 28. 30.]\n",
            "[ 4.  7.  8. 16. 28. 30. 31. 36. 48. 48.]\n"
          ],
          "name": "stdout"
        },
        {
          "output_type": "execute_result",
          "data": {
            "text/plain": [
              "27"
            ]
          },
          "metadata": {
            "tags": []
          },
          "execution_count": 23
        }
      ]
    },
    {
      "cell_type": "markdown",
      "metadata": {
        "id": "9qWNop2hG4tj"
      },
      "source": [
        "# nc+nc+(n^2)c+nc"
      ]
    }
  ]
}