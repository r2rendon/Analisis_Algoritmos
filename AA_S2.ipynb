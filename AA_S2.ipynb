{
  "nbformat": 4,
  "nbformat_minor": 0,
  "metadata": {
    "colab": {
      "name": "AA_S2.ipynb",
      "provenance": [],
      "collapsed_sections": [],
      "authorship_tag": "ABX9TyM9TFhe18ECgTwWi1bUd38s",
      "include_colab_link": true
    },
    "kernelspec": {
      "name": "python3",
      "display_name": "Python 3"
    }
  },
  "cells": [
    {
      "cell_type": "markdown",
      "metadata": {
        "id": "view-in-github",
        "colab_type": "text"
      },
      "source": [
        "<a href=\"https://colab.research.google.com/github/r2rendon/Analisis_Algoritmos/blob/main/AA_S2.ipynb\" target=\"_parent\"><img src=\"https://colab.research.google.com/assets/colab-badge.svg\" alt=\"Open In Colab\"/></a>"
      ]
    },
    {
      "cell_type": "markdown",
      "metadata": {
        "id": "bElPK6Jhyew7"
      },
      "source": [
        "Merge Sort\n",
        "---\n",
        "\n"
      ]
    },
    {
      "cell_type": "code",
      "metadata": {
        "id": "Je11CETJx_vG"
      },
      "source": [
        "def mergeSort(incomingArray, l, r):\n",
        "  n = r - l + 1\n",
        "  if n <= 2:\n",
        "    return;\n",
        "  \n",
        "  middle_index = n // 2\n",
        "\n",
        "  # first_half = incomingArray[:middle_index] \n",
        "  # second_half = incomingArray[middle_index:]\n",
        "\n",
        "  mergeSort(incomingArray, l, middle_index)\n",
        "  mergeSort(incomingArray, middle_index+1, r)\n",
        "  newArray = list[n]\n",
        "  while i < middle_index and j < r:\n",
        "    if incomingArray[i] > incomingArray[j]:\n",
        "      newArray[s] = incomingArray[j]\n",
        "      j += 1\n",
        "    else:\n",
        "      newArray[s] = incomingArray[i]\n",
        "      i += 1\n",
        "    s += 1\n",
        "  \n"
      ],
      "execution_count": null,
      "outputs": []
    },
    {
      "cell_type": "markdown",
      "metadata": {
        "id": "IVDFYlII3a3q"
      },
      "source": [
        "Busqueda Binaria\n",
        "---\n",
        "\n"
      ]
    },
    {
      "cell_type": "code",
      "metadata": {
        "id": "jxStYbfD3tcn",
        "outputId": "ea3cf21e-f409-4897-c41c-f79f7131160b",
        "colab": {
          "base_uri": "https://localhost:8080/",
          "height": 34
        }
      },
      "source": [
        "def binarySearch(incomingArray, left, right, x):\n",
        "  if right >= left:\n",
        "    mid = (left+left) // 2\n",
        "\n",
        "    if incomingArray[mid] == x:\n",
        "      return mid\n",
        "\n",
        "    elif incomingArray[mid] > x:\n",
        "      return binarySearch(incomingArray, left, mid+1, x)\n",
        "\n",
        "    else:\n",
        "      return binarySearch(incomingArray, mid+1, right, x)\n",
        "  \n",
        "  else:\n",
        "    return -1\n",
        "\n",
        "arr = [1, 4, 15, 38, 50, 52, 59, 78, 90, 99]\n",
        "x = 78\n",
        "\n",
        "result = binarySearch(arr, 0, len(arr)-1, x)\n",
        "\n",
        "if result != -1: \n",
        "    print(\"El elemento esta en la posicion: \", str(result)) \n",
        "else: \n",
        "    print(\"El elemento no se encuentra en el arreglo\") \n"
      ],
      "execution_count": null,
      "outputs": [
        {
          "output_type": "stream",
          "text": [
            "Element is present at index 7\n"
          ],
          "name": "stdout"
        }
      ]
    },
    {
      "cell_type": "markdown",
      "metadata": {
        "id": "K11ZmSobefkH"
      },
      "source": [
        "Puntos Maximos\n",
        "---\n",
        "\n"
      ]
    },
    {
      "cell_type": "code",
      "metadata": {
        "id": "PsnHTBqXeiKJ",
        "outputId": "da33ecb9-ca96-4fe6-8cd9-ffb1a00492e6",
        "colab": {
          "base_uri": "https://localhost:8080/"
        }
      },
      "source": [
        "def pMax(num):\n",
        "  if len(num) > 0:\n",
        "    menor = num[0]\n",
        "    mayor = num[0]\n",
        "\n",
        "    for n in num:\n",
        "      if n < menor: \n",
        "        menor = n\n",
        "      \n",
        "      if n > mayor:\n",
        "        mayor = n\n",
        "    \n",
        "    return menor, mayor\n",
        "  else:\n",
        "    return None\n",
        "\n",
        "arr = [9, 3, 2, 14, 1, 32, 7, 9]\n",
        "\n",
        "print(pMax(arr))\n"
      ],
      "execution_count": 7,
      "outputs": [
        {
          "output_type": "stream",
          "text": [
            "(1, 32)\n"
          ],
          "name": "stdout"
        }
      ]
    }
  ]
}